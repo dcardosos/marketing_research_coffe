{
 "cells": [
  {
   "cell_type": "code",
   "execution_count": 2,
   "metadata": {},
   "outputs": [],
   "source": [
    "import requests\n",
    "import pandas as pd\n",
    "import numpy as np\n",
    "from time import sleep\n",
    "from bs4 import BeautifulSoup\n",
    "import selenium\n",
    "import re"
   ]
  },
  {
   "cell_type": "code",
   "execution_count": 3,
   "metadata": {},
   "outputs": [],
   "source": [
    "# import web scraping libraries\n",
    "from bs4 import BeautifulSoup\n",
    "from selenium import webdriver\n",
    "from selenium.webdriver.common.keys import Keys"
   ]
  },
  {
   "cell_type": "code",
   "execution_count": 11,
   "metadata": {},
   "outputs": [],
   "source": [
    "# base url to visit\n",
    "base_url = 'https://www.google.com'"
   ]
  },
  {
   "cell_type": "code",
   "execution_count": 12,
   "metadata": {},
   "outputs": [
    {
     "name": "stderr",
     "output_type": "stream",
     "text": [
      "/tmp/ipykernel_12131/3267852028.py:2: DeprecationWarning: executable_path has been deprecated, please pass in a Service object\n",
      "  driver = webdriver.Chrome(executable_path='/home/eduardo/Documentos/códigos_faculdade/Pesquisa de mkt/chromedriver')\n"
     ]
    }
   ],
   "source": [
    "# create a driver objet to start crawling\n",
    "driver = webdriver.Chrome(executable_path='/home/eduardo/Documentos/códigos_faculdade/Pesquisa de mkt/chromedriver')"
   ]
  },
  {
   "cell_type": "code",
   "execution_count": 13,
   "metadata": {},
   "outputs": [],
   "source": [
    "driver.get(\"https://www.google.com/search?sa=X&biw=891&bih=838&tbs=lf:1,lf_ui:9&tbm=lcl&q=Cafeterias+S%C3%A3o+Paulo&rflfq=1&num=10&ved=2ahUKEwiWwPLIhMD4AhWbA7kGHR4wAugQjGp6BAgREAE#rlfi=hd:;si:;mv:[[-23.5257556,-46.629465100000004],[-23.5594599,-46.6921812]];tbs:lrf:!1m4!1u3!2m2!3m1!1e1!1m4!1u2!2m2!2m1!1e1!1m4!1u1!2m2!1m1!1e1!1m4!1u1!2m2!1m1!1e2!2m1!1e2!2m1!1e1!2m1!1e3,lf:1\")"
   ]
  },
  {
   "cell_type": "code",
   "execution_count": 14,
   "metadata": {},
   "outputs": [
    {
     "name": "stderr",
     "output_type": "stream",
     "text": [
      "/tmp/ipykernel_12131/3151657140.py:2: DeprecationWarning: find_element_by_name is deprecated. Please use find_element(by=By.NAME, value=name) instead\n",
      "  input_location = driver.find_element_by_name('q')\n",
      "/tmp/ipykernel_12131/3151657140.py:10: DeprecationWarning: find_element_by_class_name is deprecated. Please use find_element(by=By.CLASS_NAME, value=name) instead\n",
      "  driver.find_element_by_class_name('cMjHbjVt9AZ__button').click()\n"
     ]
    },
    {
     "ename": "NoSuchElementException",
     "evalue": "Message: no such element: Unable to locate element: {\"method\":\"css selector\",\"selector\":\".cMjHbjVt9AZ__button\"}\n  (Session info: chrome=102.0.5005.61)\nStacktrace:\n#0 0x558568c0af33 <unknown>\n#1 0x558568955118 <unknown>\n#2 0x55856898b3f7 <unknown>\n#3 0x55856898b5c1 <unknown>\n#4 0x5585689be5c4 <unknown>\n#5 0x5585689a8f9d <unknown>\n#6 0x5585689bc2e4 <unknown>\n#7 0x5585689a8e63 <unknown>\n#8 0x55856897e82a <unknown>\n#9 0x55856897f985 <unknown>\n#10 0x558568c4f4cd <unknown>\n#11 0x558568c535ec <unknown>\n#12 0x558568c3971e <unknown>\n#13 0x558568c54238 <unknown>\n#14 0x558568c2e870 <unknown>\n#15 0x558568c70608 <unknown>\n#16 0x558568c70788 <unknown>\n#17 0x558568c8af1d <unknown>\n#18 0x7f2ae7d4c54d <unknown>\n",
     "output_type": "error",
     "traceback": [
      "\u001b[0;31m---------------------------------------------------------------------------\u001b[0m",
      "\u001b[0;31mNoSuchElementException\u001b[0m                    Traceback (most recent call last)",
      "\u001b[1;32m/home/eduardo/Documentos/códigos_faculdade/Pesquisa de mkt/cafeterias_SP.ipynb Cell 6'\u001b[0m in \u001b[0;36m<cell line: 10>\u001b[0;34m()\u001b[0m\n\u001b[1;32m      <a href='vscode-notebook-cell:/home/eduardo/Documentos/c%C3%B3digos_faculdade/Pesquisa%20de%20mkt/cafeterias_SP.ipynb#ch0000005?line=7'>8</a>\u001b[0m driver\u001b[39m.\u001b[39mimplicitly_wait(\u001b[39m10\u001b[39m)  \u001b[39m# wait for 10 seconds for the page to load\u001b[39;00m\n\u001b[1;32m      <a href='vscode-notebook-cell:/home/eduardo/Documentos/c%C3%B3digos_faculdade/Pesquisa%20de%20mkt/cafeterias_SP.ipynb#ch0000005?line=8'>9</a>\u001b[0m \u001b[39m# click on more places to fetch more results\u001b[39;00m\n\u001b[0;32m---> <a href='vscode-notebook-cell:/home/eduardo/Documentos/c%C3%B3digos_faculdade/Pesquisa%20de%20mkt/cafeterias_SP.ipynb#ch0000005?line=9'>10</a>\u001b[0m driver\u001b[39m.\u001b[39;49mfind_element_by_class_name(\u001b[39m'\u001b[39;49m\u001b[39mcMjHbjVt9AZ__button\u001b[39;49m\u001b[39m'\u001b[39;49m)\u001b[39m.\u001b[39mclick()\n\u001b[1;32m     <a href='vscode-notebook-cell:/home/eduardo/Documentos/c%C3%B3digos_faculdade/Pesquisa%20de%20mkt/cafeterias_SP.ipynb#ch0000005?line=10'>11</a>\u001b[0m driver\u001b[39m.\u001b[39mimplicitly_wait(\u001b[39m10\u001b[39m)  \u001b[39m# wait for 10 seconds for the page to load\u001b[39;00m\n\u001b[1;32m     <a href='vscode-notebook-cell:/home/eduardo/Documentos/c%C3%B3digos_faculdade/Pesquisa%20de%20mkt/cafeterias_SP.ipynb#ch0000005?line=11'>12</a>\u001b[0m sleep(\u001b[39m2\u001b[39m)\n",
      "File \u001b[0;32m~/anaconda3/lib/python3.9/site-packages/selenium/webdriver/remote/webdriver.py:766\u001b[0m, in \u001b[0;36mWebDriver.find_element_by_class_name\u001b[0;34m(self, name)\u001b[0m\n\u001b[1;32m    <a href='file:///home/eduardo/anaconda3/lib/python3.9/site-packages/selenium/webdriver/remote/webdriver.py?line=743'>744</a>\u001b[0m \u001b[39m\"\"\"\u001b[39;00m\n\u001b[1;32m    <a href='file:///home/eduardo/anaconda3/lib/python3.9/site-packages/selenium/webdriver/remote/webdriver.py?line=744'>745</a>\u001b[0m \u001b[39mFinds an element by class name.\u001b[39;00m\n\u001b[1;32m    <a href='file:///home/eduardo/anaconda3/lib/python3.9/site-packages/selenium/webdriver/remote/webdriver.py?line=745'>746</a>\u001b[0m \n\u001b[0;32m   (...)\u001b[0m\n\u001b[1;32m    <a href='file:///home/eduardo/anaconda3/lib/python3.9/site-packages/selenium/webdriver/remote/webdriver.py?line=758'>759</a>\u001b[0m \u001b[39m        element = driver.find_element_by_class_name('foo')\u001b[39;00m\n\u001b[1;32m    <a href='file:///home/eduardo/anaconda3/lib/python3.9/site-packages/selenium/webdriver/remote/webdriver.py?line=759'>760</a>\u001b[0m \u001b[39m\"\"\"\u001b[39;00m\n\u001b[1;32m    <a href='file:///home/eduardo/anaconda3/lib/python3.9/site-packages/selenium/webdriver/remote/webdriver.py?line=760'>761</a>\u001b[0m warnings\u001b[39m.\u001b[39mwarn(\n\u001b[1;32m    <a href='file:///home/eduardo/anaconda3/lib/python3.9/site-packages/selenium/webdriver/remote/webdriver.py?line=761'>762</a>\u001b[0m     \u001b[39m\"\u001b[39m\u001b[39mfind_element_by_class_name is deprecated. Please use find_element(by=By.CLASS_NAME, value=name) instead\u001b[39m\u001b[39m\"\u001b[39m,\n\u001b[1;32m    <a href='file:///home/eduardo/anaconda3/lib/python3.9/site-packages/selenium/webdriver/remote/webdriver.py?line=762'>763</a>\u001b[0m     \u001b[39mDeprecationWarning\u001b[39;00m,\n\u001b[1;32m    <a href='file:///home/eduardo/anaconda3/lib/python3.9/site-packages/selenium/webdriver/remote/webdriver.py?line=763'>764</a>\u001b[0m     stacklevel\u001b[39m=\u001b[39m\u001b[39m2\u001b[39m,\n\u001b[1;32m    <a href='file:///home/eduardo/anaconda3/lib/python3.9/site-packages/selenium/webdriver/remote/webdriver.py?line=764'>765</a>\u001b[0m )\n\u001b[0;32m--> <a href='file:///home/eduardo/anaconda3/lib/python3.9/site-packages/selenium/webdriver/remote/webdriver.py?line=765'>766</a>\u001b[0m \u001b[39mreturn\u001b[39;00m \u001b[39mself\u001b[39;49m\u001b[39m.\u001b[39;49mfind_element(by\u001b[39m=\u001b[39;49mBy\u001b[39m.\u001b[39;49mCLASS_NAME, value\u001b[39m=\u001b[39;49mname)\n",
      "File \u001b[0;32m~/anaconda3/lib/python3.9/site-packages/selenium/webdriver/remote/webdriver.py:1251\u001b[0m, in \u001b[0;36mWebDriver.find_element\u001b[0;34m(self, by, value)\u001b[0m\n\u001b[1;32m   <a href='file:///home/eduardo/anaconda3/lib/python3.9/site-packages/selenium/webdriver/remote/webdriver.py?line=1247'>1248</a>\u001b[0m     by \u001b[39m=\u001b[39m By\u001b[39m.\u001b[39mCSS_SELECTOR\n\u001b[1;32m   <a href='file:///home/eduardo/anaconda3/lib/python3.9/site-packages/selenium/webdriver/remote/webdriver.py?line=1248'>1249</a>\u001b[0m     value \u001b[39m=\u001b[39m \u001b[39m'\u001b[39m\u001b[39m[name=\u001b[39m\u001b[39m\"\u001b[39m\u001b[39m%s\u001b[39;00m\u001b[39m\"\u001b[39m\u001b[39m]\u001b[39m\u001b[39m'\u001b[39m \u001b[39m%\u001b[39m value\n\u001b[0;32m-> <a href='file:///home/eduardo/anaconda3/lib/python3.9/site-packages/selenium/webdriver/remote/webdriver.py?line=1250'>1251</a>\u001b[0m \u001b[39mreturn\u001b[39;00m \u001b[39mself\u001b[39;49m\u001b[39m.\u001b[39;49mexecute(Command\u001b[39m.\u001b[39;49mFIND_ELEMENT, {\n\u001b[1;32m   <a href='file:///home/eduardo/anaconda3/lib/python3.9/site-packages/selenium/webdriver/remote/webdriver.py?line=1251'>1252</a>\u001b[0m     \u001b[39m'\u001b[39;49m\u001b[39musing\u001b[39;49m\u001b[39m'\u001b[39;49m: by,\n\u001b[1;32m   <a href='file:///home/eduardo/anaconda3/lib/python3.9/site-packages/selenium/webdriver/remote/webdriver.py?line=1252'>1253</a>\u001b[0m     \u001b[39m'\u001b[39;49m\u001b[39mvalue\u001b[39;49m\u001b[39m'\u001b[39;49m: value})[\u001b[39m'\u001b[39m\u001b[39mvalue\u001b[39m\u001b[39m'\u001b[39m]\n",
      "File \u001b[0;32m~/anaconda3/lib/python3.9/site-packages/selenium/webdriver/remote/webdriver.py:430\u001b[0m, in \u001b[0;36mWebDriver.execute\u001b[0;34m(self, driver_command, params)\u001b[0m\n\u001b[1;32m    <a href='file:///home/eduardo/anaconda3/lib/python3.9/site-packages/selenium/webdriver/remote/webdriver.py?line=427'>428</a>\u001b[0m response \u001b[39m=\u001b[39m \u001b[39mself\u001b[39m\u001b[39m.\u001b[39mcommand_executor\u001b[39m.\u001b[39mexecute(driver_command, params)\n\u001b[1;32m    <a href='file:///home/eduardo/anaconda3/lib/python3.9/site-packages/selenium/webdriver/remote/webdriver.py?line=428'>429</a>\u001b[0m \u001b[39mif\u001b[39;00m response:\n\u001b[0;32m--> <a href='file:///home/eduardo/anaconda3/lib/python3.9/site-packages/selenium/webdriver/remote/webdriver.py?line=429'>430</a>\u001b[0m     \u001b[39mself\u001b[39;49m\u001b[39m.\u001b[39;49merror_handler\u001b[39m.\u001b[39;49mcheck_response(response)\n\u001b[1;32m    <a href='file:///home/eduardo/anaconda3/lib/python3.9/site-packages/selenium/webdriver/remote/webdriver.py?line=430'>431</a>\u001b[0m     response[\u001b[39m'\u001b[39m\u001b[39mvalue\u001b[39m\u001b[39m'\u001b[39m] \u001b[39m=\u001b[39m \u001b[39mself\u001b[39m\u001b[39m.\u001b[39m_unwrap_value(\n\u001b[1;32m    <a href='file:///home/eduardo/anaconda3/lib/python3.9/site-packages/selenium/webdriver/remote/webdriver.py?line=431'>432</a>\u001b[0m         response\u001b[39m.\u001b[39mget(\u001b[39m'\u001b[39m\u001b[39mvalue\u001b[39m\u001b[39m'\u001b[39m, \u001b[39mNone\u001b[39;00m))\n\u001b[1;32m    <a href='file:///home/eduardo/anaconda3/lib/python3.9/site-packages/selenium/webdriver/remote/webdriver.py?line=432'>433</a>\u001b[0m     \u001b[39mreturn\u001b[39;00m response\n",
      "File \u001b[0;32m~/anaconda3/lib/python3.9/site-packages/selenium/webdriver/remote/errorhandler.py:247\u001b[0m, in \u001b[0;36mErrorHandler.check_response\u001b[0;34m(self, response)\u001b[0m\n\u001b[1;32m    <a href='file:///home/eduardo/anaconda3/lib/python3.9/site-packages/selenium/webdriver/remote/errorhandler.py?line=244'>245</a>\u001b[0m         alert_text \u001b[39m=\u001b[39m value[\u001b[39m'\u001b[39m\u001b[39malert\u001b[39m\u001b[39m'\u001b[39m]\u001b[39m.\u001b[39mget(\u001b[39m'\u001b[39m\u001b[39mtext\u001b[39m\u001b[39m'\u001b[39m)\n\u001b[1;32m    <a href='file:///home/eduardo/anaconda3/lib/python3.9/site-packages/selenium/webdriver/remote/errorhandler.py?line=245'>246</a>\u001b[0m     \u001b[39mraise\u001b[39;00m exception_class(message, screen, stacktrace, alert_text)  \u001b[39m# type: ignore[call-arg]  # mypy is not smart enough here\u001b[39;00m\n\u001b[0;32m--> <a href='file:///home/eduardo/anaconda3/lib/python3.9/site-packages/selenium/webdriver/remote/errorhandler.py?line=246'>247</a>\u001b[0m \u001b[39mraise\u001b[39;00m exception_class(message, screen, stacktrace)\n",
      "\u001b[0;31mNoSuchElementException\u001b[0m: Message: no such element: Unable to locate element: {\"method\":\"css selector\",\"selector\":\".cMjHbjVt9AZ__button\"}\n  (Session info: chrome=102.0.5005.61)\nStacktrace:\n#0 0x558568c0af33 <unknown>\n#1 0x558568955118 <unknown>\n#2 0x55856898b3f7 <unknown>\n#3 0x55856898b5c1 <unknown>\n#4 0x5585689be5c4 <unknown>\n#5 0x5585689a8f9d <unknown>\n#6 0x5585689bc2e4 <unknown>\n#7 0x5585689a8e63 <unknown>\n#8 0x55856897e82a <unknown>\n#9 0x55856897f985 <unknown>\n#10 0x558568c4f4cd <unknown>\n#11 0x558568c535ec <unknown>\n#12 0x558568c3971e <unknown>\n#13 0x558568c54238 <unknown>\n#14 0x558568c2e870 <unknown>\n#15 0x558568c70608 <unknown>\n#16 0x558568c70788 <unknown>\n#17 0x558568c8af1d <unknown>\n#18 0x7f2ae7d4c54d <unknown>\n"
     ]
    }
   ],
   "source": [
    "# locat the input search bar\n",
    "input_location = driver.find_element_by_name('q')\n",
    "driver.implicitly_wait(10)  # wait for 10 seconds for the page to load\n",
    "# type the searched words\n",
    "input_location.send_keys('Cafeterias São Paulo')\n",
    "# hit enter\n",
    "input_location.send_keys(Keys.ENTER)\n",
    "driver.implicitly_wait(10)  # wait for 10 seconds for the page to load\n",
    "# click on more places to fetch more results\n",
    "driver.find_element_by_class_name('cMjHbjVt9AZ__button').click()\n",
    "driver.implicitly_wait(10)  # wait for 10 seconds for the page to load\n",
    "sleep(2)"
   ]
  }
 ],
 "metadata": {
  "interpreter": {
   "hash": "c5abe1dd6f168b4f5e67de02cffc00ce8cef82ade2b382edc6fecc892b15c5a1"
  },
  "kernelspec": {
   "display_name": "Python 3.9.12 ('base')",
   "language": "python",
   "name": "python3"
  },
  "language_info": {
   "codemirror_mode": {
    "name": "ipython",
    "version": 3
   },
   "file_extension": ".py",
   "mimetype": "text/x-python",
   "name": "python",
   "nbconvert_exporter": "python",
   "pygments_lexer": "ipython3",
   "version": "3.9.12"
  },
  "orig_nbformat": 4
 },
 "nbformat": 4,
 "nbformat_minor": 2
}
